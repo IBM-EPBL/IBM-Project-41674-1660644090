{
 "cells": [
  {
   "cell_type": "markdown",
   "id": "b42b484a",
   "metadata": {},
   "source": [
    "# IBM Project Name: Real-Time Communication System Powered by AI for Specially Abled"
   ]
  },
  {
   "cell_type": "markdown",
   "id": "8f18a8ef",
   "metadata": {},
   "source": [
    "# TEAM ID         : PNT2022TMID38698"
   ]
  },
  {
   "cell_type": "markdown",
   "id": "f929f39c",
   "metadata": {},
   "source": [
    "# Dataset Details"
   ]
  },
  {
   "cell_type": "markdown",
   "id": "9faa262d",
   "metadata": {},
   "source": [
    "Source: Kaggle (https://www.kaggle.com/datasets/ahmedkhanak1995/sign-language-gesture-images-dataset)\n"
   ]
  },
  {
   "cell_type": "code",
   "execution_count": null,
   "id": "a00daa22",
   "metadata": {},
   "outputs": [],
   "source": [
    "Class | Number of Images\n",
    "------|-----------------\n",
    "0     |  1500 images\n",
    "1     |  1500 images\n",
    "2     |  1500 images\n",
    "3     |  1500 images\n",
    "4     |  1500 images\n",
    "5     |  1500 images\n",
    "6     |  1500 images\n",
    "7     |  1500 images\n",
    "8     |  1500 images\n",
    "9     |  1500 images\n",
    "A     |  1500 images\n",
    "B     |  1500 images\n",
    "C     |  1500 images\n",
    "D     |  1500 images\n",
    "E     |  1500 images\n",
    "F     |  1500 images\n",
    "G     |  1500 images\n",
    "H     |  1500 images\n",
    "I     |  1500 images\n",
    "J     |  1500 images\n",
    "K     |  1500 images\n",
    "L     |  1500 images\n",
    "M     |  1500 images\n",
    "N     |  1500 images\n",
    "O     |  1500 images\n",
    "P     |  1500 images\n",
    "Q     |  1500 images\n",
    "R     |  1500 images\n",
    "S     |  1500 images\n",
    "T     |  1500 images\n",
    "U     |  1500 images\n",
    "V     |  1500 images\n",
    "W     |  1500 images\n",
    "X     |  1500 images\n",
    "Y     |  1500 images\n",
    "Z     |  1500 images\n",
    "Space |  1500 images"
   ]
  }
 ],
 "metadata": {
  "kernelspec": {
   "display_name": "Python 3 (ipykernel)",
   "language": "python",
   "name": "python3"
  },
  "language_info": {
   "codemirror_mode": {
    "name": "ipython",
    "version": 3
   },
   "file_extension": ".py",
   "mimetype": "text/x-python",
   "name": "python",
   "nbconvert_exporter": "python",
   "pygments_lexer": "ipython3",
   "version": "3.9.12"
  }
 },
 "nbformat": 4,
 "nbformat_minor": 5
}
