{
  "nbformat": 4,
  "nbformat_minor": 0,
  "metadata": {
    "colab": {
      "provenance": [],
      "collapsed_sections": []
    },
    "kernelspec": {
      "name": "python3",
      "display_name": "Python 3"
    },
    "language_info": {
      "name": "python"
    }
  },
  "cells": [
    {
      "cell_type": "markdown",
      "source": [
        "IMPORTING NECESSARY LIBRARIES\n"
      ],
      "metadata": {
        "id": "Uiv_DyIJZ5ID"
      }
    },
    {
      "cell_type": "code",
      "source": [
        "import os\n",
        "import cv2\n",
        "import numpy as np\n",
        "import matplotlib.pyplot as plt\n",
        "from keras.preprocessing.image import ImageDataGenerator"
      ],
      "metadata": {
        "id": "tf7l2SAfaAwl"
      },
      "execution_count": 1,
      "outputs": []
    },
    {
      "cell_type": "markdown",
      "source": [
        "RENAMING DATA FILES"
      ],
      "metadata": {
        "id": "JCHSBiFHaQEe"
      }
    },
    {
      "cell_type": "code",
      "source": [
        "def rename_imgs(file_name):\n",
        "    folder_path = r'C:\\Users\\indira\\Downloads\\archive.zip\\Gesture Image Data'+file_name\n",
        "\n",
        "    num = 0\n",
        "    for file in os.listdir(folder_path):\n",
        "        # if num%10 == 0:\n",
        "        #     print(f'Renamed {num} files...')\n",
        "        # os.rename(folder_path+'\\\\'+file, folder_path+'\\\\'+file_name+'_'+str(num)+'.jpeg')\n",
        "        num += 1"
      ],
      "metadata": {
        "id": "oZd7PsF3aQnS"
      },
      "execution_count": 10,
      "outputs": []
    },
    {
      "cell_type": "code",
      "source": [
        "fn = 'Space'\n",
        "rename_imgs(fn)"
      ],
      "metadata": {
        "id": "F2UgFP2oagdr"
      },
      "execution_count": null,
      "outputs": []
    },
    {
      "cell_type": "code",
      "source": [
        "file_names = '0123456789'+'ABCDEFGHIJKLMNOPQRSTUVWXYZ'\n",
        "for fn in file_names:\n",
        "    rename_imgs(fn)"
      ],
      "metadata": {
        "id": "h61XquMqnqz-"
      },
      "execution_count": null,
      "outputs": []
    },
    {
      "cell_type": "markdown",
      "source": [
        "DISPLAYING SAMPLE IMAGES FROM DATASET"
      ],
      "metadata": {
        "id": "L-taZokenxb7"
      }
    },
    {
      "cell_type": "code",
      "source": [
        "train_data_path = 'train_dataset/'\n",
        "test_data_path = 'test_dataset/'"
      ],
      "metadata": {
        "id": "kjuFY0LSnyMD"
      },
      "execution_count": 11,
      "outputs": []
    },
    {
      "cell_type": "code",
      "source": [
        "def display(img,sign=None):\n",
        "    \n",
        "    img = cv2.cvtColor(img,cv2.COLOR_BGR2RGB)\n",
        "    fig = plt.figure(figsize=(7,7))\n",
        "    ax = fig.add_subplot(111)\n",
        "    plt.title(sign)\n",
        "    ax.imshow(img)"
      ],
      "metadata": {
        "id": "xYYnOLfcn9Iz"
      },
      "execution_count": 12,
      "outputs": []
    },
    {
      "cell_type": "markdown",
      "source": [
        "Training Data Images"
      ],
      "metadata": {
        "id": "2LqBH_7BoCQ9"
      }
    },
    {
      "cell_type": "code",
      "source": [
        "sign_img = cv2.imread(train_data_path+'O/O_234.jpeg')\n",
        "display(sign_img,'a')"
      ],
      "metadata": {
        "id": "Wuv_Gn5IoKQn"
      },
      "execution_count": null,
      "outputs": []
    },
    {
      "cell_type": "markdown",
      "source": [
        "![1.jpg](data:image/jpeg;base64,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)"
      ],
      "metadata": {
        "id": "5LQD3BWZoSHa"
      }
    },
    {
      "cell_type": "code",
      "source": [
        "sign_img = cv2.imread(train_data_path+'A/A_204.jpeg')\n",
        "display(sign_img,'A')"
      ],
      "metadata": {
        "id": "wS_T1EGro_kL"
      },
      "execution_count": null,
      "outputs": []
    },
    {
      "cell_type": "markdown",
      "source": [
        "![1.jpg](data:image/jpeg;base64,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)"
      ],
      "metadata": {
        "id": "Jta4_KdapRLK"
      }
    },
    {
      "cell_type": "code",
      "source": [
        "sign_img = cv2.imread(train_data_path+'3/3_340.jpeg')\n",
        "display(sign_img,'3')"
      ],
      "metadata": {
        "id": "Ax6vJBCFpkW6"
      },
      "execution_count": null,
      "outputs": []
    },
    {
      "cell_type": "markdown",
      "source": [
        "![1.jpg](data:image/jpeg;base64,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)"
      ],
      "metadata": {
        "id": "oewxvA37prc-"
      }
    },
    {
      "cell_type": "code",
      "source": [
        "sign_img = cv2.imread(train_data_path+'M/M_100.jpeg')\n",
        "display(sign_img,'M')"
      ],
      "metadata": {
        "id": "QEtexcCzp0X8"
      },
      "execution_count": null,
      "outputs": []
    },
    {
      "cell_type": "markdown",
      "source": [
        "![1.jpg](data:image/jpeg;base64,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)"
      ],
      "metadata": {
        "id": "0gP5HidWp5td"
      }
    },
    {
      "cell_type": "code",
      "source": [
        "sign_img = cv2.imread(train_data_path+'S/S_10.jpeg')\n",
        "display(sign_img,'Space')"
      ],
      "metadata": {
        "id": "NRxnyEN1p_Pm"
      },
      "execution_count": null,
      "outputs": []
    },
    {
      "cell_type": "markdown",
      "source": [
        "![6.jpg](data:image/jpeg;base64,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)"
      ],
      "metadata": {
        "id": "t4uhJRx4qEg4"
      }
    },
    {
      "cell_type": "markdown",
      "source": [
        "Test Data Images"
      ],
      "metadata": {
        "id": "-paUnGBVqVYk"
      }
    },
    {
      "cell_type": "code",
      "source": [
        "sign_img = cv2.imread(test_data_path+'S/S_15.jpeg')\n",
        "display(sign_img,'S')"
      ],
      "metadata": {
        "id": "x_2EYqpCqWQi"
      },
      "execution_count": null,
      "outputs": []
    },
    {
      "cell_type": "markdown",
      "source": [
        "![412.jpg](data:image/jpeg;base64,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)"
      ],
      "metadata": {
        "id": "i-G_wCr-qcSd"
      }
    },
    {
      "cell_type": "code",
      "source": [
        "\n",
        "sign_img = cv2.imread(test_data_path+'Z/Z_1.jpeg')\n",
        "display(sign_img,'Z')"
      ],
      "metadata": {
        "id": "jbOhdDXOqfRX"
      },
      "execution_count": null,
      "outputs": []
    },
    {
      "cell_type": "markdown",
      "source": [
        "![2.jpg](data:image/jpeg;base64,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)"
      ],
      "metadata": {
        "id": "1hbj0cyYqpFz"
      }
    },
    {
      "cell_type": "code",
      "source": [
        "sign_img = cv2.imread(test_data_path+'7/7_8.jpeg')\n",
        "display(sign_img,'7')"
      ],
      "metadata": {
        "id": "beopTLYUqt_h"
      },
      "execution_count": null,
      "outputs": []
    },
    {
      "cell_type": "markdown",
      "source": [
        "![1.jpg](data:image/jpeg;base64,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)"
      ],
      "metadata": {
        "id": "uFVVnhOOqzLm"
      }
    },
    {
      "cell_type": "markdown",
      "source": [
        "AUGMENTATION AND PREPROCESSING THE DATASET"
      ],
      "metadata": {
        "id": "P6dOzNBBq-A8"
      }
    },
    {
      "cell_type": "markdown",
      "source": [
        "Creating ImageDataGenerator"
      ],
      "metadata": {
        "id": "bGrvO1RRrCYP"
      }
    },
    {
      "cell_type": "code",
      "source": [
        "image_gen = ImageDataGenerator(rotation_range=30,\n",
        "                              width_shift_range=0.1,\n",
        "                              height_shift_range=0.1,\n",
        "                              shear_range=0.2,\n",
        "                              zoom_range=0.2,\n",
        "                              rescale=1/255,\n",
        "                              horizontal_flip=True,\n",
        "                              fill_mode='nearest',\n",
        "                              validation_split=0.25)"
      ],
      "metadata": {
        "id": "weFEhGGjq-k5"
      },
      "execution_count": 14,
      "outputs": []
    },
    {
      "cell_type": "markdown",
      "source": [
        "Original Image"
      ],
      "metadata": {
        "id": "DgJ7Pdwjrubw"
      }
    },
    {
      "cell_type": "code",
      "source": [
        "sign_img = cv2.imread(train_data_path+'3/3_100.jpeg')\n",
        "display(sign_img,'3')"
      ],
      "metadata": {
        "id": "DkhVuYM0rvMn"
      },
      "execution_count": null,
      "outputs": []
    },
    {
      "cell_type": "markdown",
      "source": [
        "![7.jpg](data:image/jpeg;base64,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)"
      ],
      "metadata": {
        "id": "jEtCZtbqr1DI"
      }
    },
    {
      "cell_type": "markdown",
      "source": [
        "Augmented Images"
      ],
      "metadata": {
        "id": "Unrvktgor_4g"
      }
    },
    {
      "cell_type": "code",
      "source": [
        "display(image_gen.random_transform(sign_img))"
      ],
      "metadata": {
        "id": "qEwInIyRsFaR"
      },
      "execution_count": null,
      "outputs": []
    },
    {
      "cell_type": "markdown",
      "source": [
        "![5.jpg](data:image/jpeg;base64,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)"
      ],
      "metadata": {
        "id": "cpVnWh-asPbG"
      }
    },
    {
      "cell_type": "markdown",
      "source": [
        "\n",
        "SPLITING INTO TRAIN AND VALIDATION DATASET"
      ],
      "metadata": {
        "id": "X3Kdt2tGsllg"
      }
    },
    {
      "cell_type": "markdown",
      "source": [
        "Train Data Generator"
      ],
      "metadata": {
        "id": "fgpMLSkMsm8I"
      }
    },
    {
      "cell_type": "code",
      "source": [
        "train_data_gen = image_gen.flow_from_directory(train_data_path,\n",
        "                                           target_size=(250,250),\n",
        "                                           batch_size=16,\n",
        "                                           shuffle=True,\n",
        "                                           class_mode='binary',\n",
        "                                           subset='training')"
      ],
      "metadata": {
        "id": "DUr7Yn1Isvof"
      },
      "execution_count": null,
      "outputs": []
    },
    {
      "cell_type": "markdown",
      "source": [
        "Found 41625 images belonging to 37 classes."
      ],
      "metadata": {
        "id": "bkP0OW2ls3Gz"
      }
    },
    {
      "cell_type": "markdown",
      "source": [
        "Validation Data Generator"
      ],
      "metadata": {
        "id": "tBD7f42utEZh"
      }
    },
    {
      "cell_type": "code",
      "source": [
        "validation_data_gen = image_gen.flow_from_directory(train_data_path,\n",
        "                                           target_size=(250,250),\n",
        "                                           batch_size=16,\n",
        "                                           shuffle=True,\n",
        "                                           class_mode='binary',\n",
        "                                           subset='validation')"
      ],
      "metadata": {
        "id": "KESHlexqtJfI"
      },
      "execution_count": null,
      "outputs": []
    },
    {
      "cell_type": "markdown",
      "source": [
        "Found 13875 images belonging to 37 classes."
      ],
      "metadata": {
        "id": "NpBJkJVWtQrx"
      }
    },
    {
      "cell_type": "markdown",
      "source": [
        "Test Data **Generator**"
      ],
      "metadata": {
        "id": "5LJjL7T3tQ4n"
      }
    },
    {
      "cell_type": "code",
      "source": [
        "test_data_gen = image_gen.flow_from_directory(test_data_path,\n",
        "                                           target_size=(250,250),\n",
        "                                           batch_size=8,\n",
        "                                           shuffle=True,\n",
        "                                           class_mode='categorical',\n",
        "                                           )"
      ],
      "metadata": {
        "id": "2EmWrATwtekw"
      },
      "execution_count": null,
      "outputs": []
    },
    {
      "cell_type": "markdown",
      "source": [
        "Found 2586 images belonging to 37 classes."
      ],
      "metadata": {
        "id": "N79261CMttZ6"
      }
    },
    {
      "cell_type": "code",
      "source": [
        "train_data_gen.class_indices"
      ],
      "metadata": {
        "id": "zf7gPVjUt82r"
      },
      "execution_count": null,
      "outputs": []
    },
    {
      "cell_type": "markdown",
      "source": [
        "{'0': 0,\n",
        " '1': 1,\n",
        " '2': 2,\n",
        " '3': 3,\n",
        " '4': 4,\n",
        " '5': 5,\n",
        " '6': 6,\n",
        " '7': 7,\n",
        " '8': 8,\n",
        " '9': 9,\n",
        " 'A': 10,\n",
        " 'B': 11,\n",
        " 'C': 12,\n",
        " 'D': 13,\n",
        " 'E': 14,\n",
        " 'F': 15,\n",
        " 'G': 16,\n",
        " 'H': 17,\n",
        " 'I': 18,\n",
        " 'J': 19,\n",
        " 'K': 20,\n",
        " 'L': 21,\n",
        " 'M': 22,\n",
        " 'N': 23,\n",
        " 'O': 24,\n",
        " 'P': 25,\n",
        " 'Q': 26,\n",
        " 'R': 27,\n",
        " 'S': 28,\n",
        " 'Space': 29,\n",
        " 'T': 30,\n",
        " 'U': 31,\n",
        " V': 32,\n",
        " 'W': 33,\n",
        " 'X': 34,\n",
        " 'Y': 35,\n",
        " 'Z': 36}"
      ],
      "metadata": {
        "id": "1yEpjC5XuLta"
      }
    },
    {
      "cell_type": "code",
      "source": [
        "test_data_gen.classes"
      ],
      "metadata": {
        "id": "XK9x3JE4ucIK"
      },
      "execution_count": null,
      "outputs": []
    },
    {
      "cell_type": "markdown",
      "source": [
        "array([ 0,  0,  0, ..., 36, 36, 36])"
      ],
      "metadata": {
        "id": "S6jlw8svujwS"
      }
    },
    {
      "cell_type": "code",
      "source": [
        "len(train_data_gen.classes)"
      ],
      "metadata": {
        "id": "hp4Ygwglukf8"
      },
      "execution_count": null,
      "outputs": []
    },
    {
      "cell_type": "markdown",
      "source": [
        "41625"
      ],
      "metadata": {
        "id": "sectuyauuqK3"
      }
    },
    {
      "cell_type": "code",
      "source": [
        "len(test_data_gen.classes)"
      ],
      "metadata": {
        "id": "IKLTR_gzuyB1"
      },
      "execution_count": null,
      "outputs": []
    },
    {
      "cell_type": "markdown",
      "source": [
        "2586"
      ],
      "metadata": {
        "id": "CdLmPAkWu3QA"
      }
    },
    {
      "cell_type": "code",
      "source": [],
      "metadata": {
        "id": "MoI0Wo9Ru6lE"
      },
      "execution_count": null,
      "outputs": []
    }
  ]
}